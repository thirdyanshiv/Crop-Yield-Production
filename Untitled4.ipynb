{
 "cells": [
  {
   "cell_type": "code",
   "execution_count": 2,
   "id": "aed665ce",
   "metadata": {},
   "outputs": [],
   "source": [
    "# Import necessary libraries\n",
    "import pandas as pd\n",
    "import numpy as np\n",
    "from sklearn.model_selection import train_test_split\n",
    "from sklearn.preprocessing import StandardScaler\n",
    "from sklearn.ensemble import RandomForestClassifier\n",
    "from sklearn.metrics import accuracy_score, classification_report, confusion_matrix\n",
    "import seaborn as sns\n",
    "import matplotlib.pyplot as plt"
   ]
  },
  {
   "cell_type": "code",
   "execution_count": 3,
   "id": "e424e042",
   "metadata": {},
   "outputs": [
    {
     "name": "stdout",
     "output_type": "stream",
     "text": [
      "             name  MDVP:Fo(Hz)  MDVP:Fhi(Hz)  MDVP:Flo(Hz)  MDVP:Jitter(%)  \\\n",
      "0  phon_R01_S01_1      119.992       157.302        74.997         0.00784   \n",
      "1  phon_R01_S01_2      122.400       148.650       113.819         0.00968   \n",
      "2  phon_R01_S01_3      116.682       131.111       111.555         0.01050   \n",
      "3  phon_R01_S01_4      116.199       141.170        78.630         0.00989   \n",
      "4  phon_R01_S01_5      116.199       141.170        78.630         0.00989   \n",
      "\n",
      "   MDVP:Jitter(Abs)  MDVP:RAP  MDVP:PPQ  Jitter:DDP  MDVP:Shimmer  ...  \\\n",
      "0           0.00007   0.00370   0.00554     0.01109       0.04374  ...   \n",
      "1           0.00008   0.00465   0.00696     0.01394       0.06134  ...   \n",
      "2           0.00009   0.00544   0.00781     0.01633       0.05233  ...   \n",
      "3           0.00008   0.00493   0.00640     0.01480       0.04774  ...   \n",
      "4           0.00008   0.00493   0.00640     0.01480       0.04774  ...   \n",
      "\n",
      "   Shimmer:DDA      NHR     HNR      RPDE       DFA   spread1   spread2  \\\n",
      "0      0.06545  0.02211  21.033  0.414783  0.815285 -4.813031  0.266482   \n",
      "1      0.09403  0.01929  19.085  0.458359  0.819521 -4.075192  0.335590   \n",
      "2      0.08270  0.01309  20.651  0.429895  0.825288 -4.443179  0.311173   \n",
      "3      0.07376  0.01353  20.644  0.434969  0.819235 -4.117501  0.334147   \n",
      "4      0.07376  0.01353  20.644  0.434969  0.819235 -4.117501  0.334147   \n",
      "\n",
      "         D2       PPE  status  \n",
      "0  2.301442  0.284654       1  \n",
      "1  2.486855  0.368674       1  \n",
      "2  2.342259  0.332634       1  \n",
      "3  2.405554  0.368975       1  \n",
      "4  2.405554  0.368975       1  \n",
      "\n",
      "[5 rows x 24 columns]\n",
      "<class 'pandas.core.frame.DataFrame'>\n",
      "RangeIndex: 5 entries, 0 to 4\n",
      "Data columns (total 24 columns):\n",
      " #   Column            Non-Null Count  Dtype  \n",
      "---  ------            --------------  -----  \n",
      " 0   name              5 non-null      object \n",
      " 1   MDVP:Fo(Hz)       5 non-null      float64\n",
      " 2   MDVP:Fhi(Hz)      5 non-null      float64\n",
      " 3   MDVP:Flo(Hz)      5 non-null      float64\n",
      " 4   MDVP:Jitter(%)    5 non-null      float64\n",
      " 5   MDVP:Jitter(Abs)  5 non-null      float64\n",
      " 6   MDVP:RAP          5 non-null      float64\n",
      " 7   MDVP:PPQ          5 non-null      float64\n",
      " 8   Jitter:DDP        5 non-null      float64\n",
      " 9   MDVP:Shimmer      5 non-null      float64\n",
      " 10  MDVP:Shimmer(dB)  5 non-null      float64\n",
      " 11  Shimmer:APQ3      5 non-null      float64\n",
      " 12  Shimmer:APQ5      5 non-null      float64\n",
      " 13  MDVP:APQ          5 non-null      float64\n",
      " 14  Shimmer:DDA       5 non-null      float64\n",
      " 15  NHR               5 non-null      float64\n",
      " 16  HNR               5 non-null      float64\n",
      " 17  RPDE              5 non-null      float64\n",
      " 18  DFA               5 non-null      float64\n",
      " 19  spread1           5 non-null      float64\n",
      " 20  spread2           5 non-null      float64\n",
      " 21  D2                5 non-null      float64\n",
      " 22  PPE               5 non-null      float64\n",
      " 23  status            5 non-null      int64  \n",
      "dtypes: float64(22), int64(1), object(1)\n",
      "memory usage: 1.1+ KB\n",
      "None\n"
     ]
    }
   ],
   "source": [
    "# Load the dataset\n",
    "df = pd.read_csv(r'C:\\Users\\HIRDYANSHI SINGH\\OneDrive\\Desktop\\Documents\\parkinsons.csv')\n",
    "\n",
    "# Display first 5 rows of the dataset\n",
    "print(df.head())\n",
    "\n",
    "# Display dataset information\n",
    "print(df.info())"
   ]
  },
  {
   "cell_type": "code",
   "execution_count": null,
   "id": "68628991",
   "metadata": {},
   "outputs": [],
   "source": []
  }
 ],
 "metadata": {
  "kernelspec": {
   "display_name": "Python 3 (ipykernel)",
   "language": "python",
   "name": "python3"
  },
  "language_info": {
   "codemirror_mode": {
    "name": "ipython",
    "version": 3
   },
   "file_extension": ".py",
   "mimetype": "text/x-python",
   "name": "python",
   "nbconvert_exporter": "python",
   "pygments_lexer": "ipython3",
   "version": "3.9.12"
  }
 },
 "nbformat": 4,
 "nbformat_minor": 5
}
